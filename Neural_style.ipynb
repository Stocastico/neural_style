{
 "cells": [
  {
   "cell_type": "markdown",
   "metadata": {},
   "source": [
    "# Style transfer"
   ]
  },
  {
   "cell_type": "code",
   "execution_count": 4,
   "metadata": {},
   "outputs": [],
   "source": [
    "%matplotlib inline\n",
    "# Scientific Python\n",
    "import cv2\n",
    "import numpy as np\n",
    "import matplotlib.pyplot as plt\n",
    "# Keras related\n",
    "from keras import backend as K\n",
    "from keras.preprocessing.image import img_to_array\n",
    "from keras.applications.vgg19 import VGG19"
   ]
  },
  {
   "cell_type": "markdown",
   "metadata": {},
   "source": [
    "## Definition of the Network\n",
    "Here we import the network available in keras.applications, specifying that we will use Average Pooling instead of Max Pooling, and pre-load the network with ImageNet weights"
   ]
  },
  {
   "cell_type": "code",
   "execution_count": 3,
   "metadata": {},
   "outputs": [
    {
     "name": "stdout",
     "output_type": "stream",
     "text": [
      "Downloading data from https://github.com/fchollet/deep-learning-models/releases/download/v0.1/vgg19_weights_tf_dim_ordering_tf_kernels.h5\n",
      "574717952/574710816 [==============================] - 113s 0us/step\n"
     ]
    }
   ],
   "source": [
    "vgg_model = VGG19(weights='imagenet', pooling='avg', include_top='false')\n",
    "\n",
    "# define a dictionary with the layers' name and output \n",
    "layers_output = dict([(layer.name, layer.output) for layer in vgg_model.layers])"
   ]
  },
  {
   "cell_type": "markdown",
   "metadata": {},
   "source": [
    "## Definition of image paths and layers used\n",
    "Here we define the variables representing the paths to the content and style images, as well as the layers that will be used when creating the image combining the two of them. Finally, we define the ratio α/β representing the weights of the style and content losses when computing the total loss."
   ]
  },
  {
   "cell_type": "code",
   "execution_count": null,
   "metadata": {},
   "outputs": [],
   "source": [
    "content_img_path = './content_images/donostia.jpg'\n",
    "style_img_path = './style_images/starry_night.jpg'\n",
    "\n",
    "content_layer = 'block4_conv2'\n",
    "style_layers = ['block1_conv1', 'block2_conv1', 'block3_conv1', 'block4_conv1', 'block4_conv1']\n",
    "\n",
    "content_loss_weight = 1\n",
    "style_loss_weight = 1000"
   ]
  },
  {
   "cell_type": "markdown",
   "metadata": {},
   "source": [
    "## Helper functions\n",
    "Here we define a list of useful functions that are used later. These functions are used to read and write images, preprocess the image according to VGG implementation, show images in the notebook, compute the losses."
   ]
  },
  {
   "cell_type": "code",
   "execution_count": null,
   "metadata": {},
   "outputs": [],
   "source": [
    "def calc_content_loss(input_img, proc_img):\n",
    "    return np.sum(np.square(input_img  - proc_img))\n",
    "\n",
    "def calc_style_loss_layer(A, G):\n",
    "    assert(A.ndim == G.ndim and A.ndim == 3)\n",
    "    N = A.shape[2]\n",
    "    M = A.shape[0] * A.shape[1]\n",
    "    Gram_A = compute_gram_matrix(A)\n",
    "    Gram_G = compute_gram_matrix(G)\n",
    "    \n",
    "def calc_style_loss(A_out_layers, G_out_layers):\n",
    "    pass \n",
    "\n",
    "def calc_total_loss(c_loss, s_loss, alfa, beta):\n",
    "    return alfa*c_loss + beta*s_loss\n",
    "\n",
    "def compute_gram_matrix(img):\n",
    "    pass\n",
    "    \n",
    "def preprocess_image(img):\n",
    "    # as we load image with opencv, there is no need to convert to BGR\n",
    "    # we only have to remove the mean \n",
    "\n",
    "def read_image_from_file(img_path):\n",
    "    img = cv2.imread(img_path)\n",
    "    img = img_to_array(img)"
   ]
  }
 ],
 "metadata": {
  "kernelspec": {
   "display_name": "Python 3",
   "language": "python",
   "name": "python3"
  },
  "language_info": {
   "codemirror_mode": {
    "name": "ipython",
    "version": 3
   },
   "file_extension": ".py",
   "mimetype": "text/x-python",
   "name": "python",
   "nbconvert_exporter": "python",
   "pygments_lexer": "ipython3",
   "version": "3.5.2"
  }
 },
 "nbformat": 4,
 "nbformat_minor": 2
}
